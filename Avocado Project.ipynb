{
 "cells": [
  {
   "cell_type": "code",
   "execution_count": 3,
   "id": "96892f8c",
   "metadata": {},
   "outputs": [],
   "source": [
    "import pandas as pd\n",
    "import numpy as np\n",
    "from sklearn.model_selection import train_test_split\n",
    "from sklearn.linear_model import LinearRegression\n",
    "from sklearn.ensemble import RandomForestClassifier\n",
    "from sklearn.metrics import classification_report, mean_squared_error\n"
   ]
  },
  {
   "cell_type": "code",
   "execution_count": 10,
   "id": "fd92c27d",
   "metadata": {},
   "outputs": [],
   "source": [
    "# Load the dataset\n",
    "filename = r\"C:\\Users\\Harshita\\Downloads\\avocado 1.csv\"\n",
    "df = pd.read_csv(filename)"
   ]
  },
  {
   "cell_type": "code",
   "execution_count": 16,
   "id": "aa274589",
   "metadata": {},
   "outputs": [
    {
     "name": "stdout",
     "output_type": "stream",
     "text": [
      "Index(['Unnamed: 0', 'AveragePrice', 'Total Volume', '4046', '4225', '4770',\n",
      "       'Total Bags', 'Small Bags', 'Large Bags', 'XLarge Bags', 'type',\n",
      "       'region', 'Month', 'Year', 'Day'],\n",
      "      dtype='object')\n"
     ]
    }
   ],
   "source": [
    "print(df.columns)"
   ]
  },
  {
   "cell_type": "code",
   "execution_count": 17,
   "id": "c22f18eb",
   "metadata": {},
   "outputs": [
    {
     "name": "stdout",
     "output_type": "stream",
     "text": [
      "       Unnamed: 0  AveragePrice  Total Volume     4046       4225    4770  \\\n",
      "0               0          1.33      64236.62  1036.74   54454.85   48.16   \n",
      "1               1          1.35      54876.98   674.28   44638.81   58.33   \n",
      "2               2          0.93     118220.22   794.70  109149.67  130.50   \n",
      "3               3          1.08      78992.15  1132.00   71976.41   72.58   \n",
      "4               4          1.28      51039.60   941.48   43838.39   75.78   \n",
      "...           ...           ...           ...      ...        ...     ...   \n",
      "18244           7          1.63      17074.83  2046.96    1529.20    0.00   \n",
      "18245           8          1.71      13888.04  1191.70    3431.50    0.00   \n",
      "18246           9          1.87      13766.76  1191.92    2452.79  727.94   \n",
      "18247          10          1.93      16205.22  1527.63    2981.04  727.01   \n",
      "18248          11          1.62      17489.58  2894.77    2356.13  224.53   \n",
      "\n",
      "       Total Bags  Small Bags  Large Bags  XLarge Bags          type  \\\n",
      "0         8696.87     8603.62       93.25          0.0  conventional   \n",
      "1         9505.56     9408.07       97.49          0.0  conventional   \n",
      "2         8145.35     8042.21      103.14          0.0  conventional   \n",
      "3         5811.16     5677.40      133.76          0.0  conventional   \n",
      "4         6183.95     5986.26      197.69          0.0  conventional   \n",
      "...           ...         ...         ...          ...           ...   \n",
      "18244    13498.67    13066.82      431.85          0.0       organic   \n",
      "18245     9264.84     8940.04      324.80          0.0       organic   \n",
      "18246     9394.11     9351.80       42.31          0.0       organic   \n",
      "18247    10969.54    10919.54       50.00          0.0       organic   \n",
      "18248    12014.15    11988.14       26.01          0.0       organic   \n",
      "\n",
      "                 region  Month  Year  Day       Date  \n",
      "0                Albany     12  2015   27 2015-12-27  \n",
      "1                Albany     12  2015   20 2015-12-20  \n",
      "2                Albany     12  2015   13 2015-12-13  \n",
      "3                Albany      6  2015   12 2015-06-12  \n",
      "4                Albany     11  2015   29 2015-11-29  \n",
      "...                 ...    ...   ...  ...        ...  \n",
      "18244  WestTexNewMexico      4  2018    2 2018-04-02  \n",
      "18245  WestTexNewMexico      1  2018   28 2018-01-28  \n",
      "18246  WestTexNewMexico      1  2018   21 2018-01-21  \n",
      "18247  WestTexNewMexico      1  2018   14 2018-01-14  \n",
      "18248  WestTexNewMexico      7  2018    1 2018-07-01  \n",
      "\n",
      "[18249 rows x 16 columns]\n"
     ]
    }
   ],
   "source": [
    "import pandas as pd\n",
    "\n",
    "# Assuming you have a DataFrame named df with columns 'Month', 'Day', and 'Year'\n",
    "\n",
    "# Create a new 'Date' column\n",
    "df['Date'] = pd.to_datetime(df[['Year', 'Month', 'Day']])\n",
    "\n",
    "# Display the DataFrame\n",
    "print(df)\n"
   ]
  },
  {
   "cell_type": "code",
   "execution_count": 20,
   "id": "5d308b77",
   "metadata": {},
   "outputs": [],
   "source": [
    "# Read the CSV file into a DataFrame\n",
    "df = pd.read_csv(r\"C:\\Users\\Harshita\\Downloads\\avocado 1.csv\")"
   ]
  },
  {
   "cell_type": "code",
   "execution_count": 21,
   "id": "10e50bdb",
   "metadata": {},
   "outputs": [],
   "source": [
    "# Drop unnecessary columns\n",
    "df = df.drop(columns=['Unnamed: 0'])\n"
   ]
  },
  {
   "cell_type": "code",
   "execution_count": 22,
   "id": "060a2982",
   "metadata": {},
   "outputs": [
    {
     "name": "stderr",
     "output_type": "stream",
     "text": [
      "C:\\Users\\Harshita\\AppData\\Local\\Temp\\ipykernel_11888\\646168968.py:2: UserWarning: Parsing dates in DD/MM/YYYY format when dayfirst=False (the default) was specified. This may lead to inconsistently parsed dates! Specify a format to ensure consistent parsing.\n",
      "  df['Date'] = pd.to_datetime(df['Date'])\n"
     ]
    }
   ],
   "source": [
    "# Convert 'Date' column to datetime format\n",
    "df['Date'] = pd.to_datetime(df['Date'])"
   ]
  },
  {
   "cell_type": "code",
   "execution_count": 23,
   "id": "c6f4326e",
   "metadata": {},
   "outputs": [],
   "source": [
    "# Extract additional date components\n",
    "df['Month'] = df['Date'].dt.month\n",
    "df['Year'] = df['Date'].dt.year\n",
    "df['Day'] = df['Date'].dt.day"
   ]
  },
  {
   "cell_type": "code",
   "execution_count": 24,
   "id": "7eac84a2",
   "metadata": {},
   "outputs": [
    {
     "name": "stdout",
     "output_type": "stream",
     "text": [
      "            Date  AveragePrice  Total Volume     4046       4225    4770  \\\n",
      "0     2015-12-27          1.33      64236.62  1036.74   54454.85   48.16   \n",
      "1     2015-12-20          1.35      54876.98   674.28   44638.81   58.33   \n",
      "2     2015-12-13          0.93     118220.22   794.70  109149.67  130.50   \n",
      "3     2015-06-12          1.08      78992.15  1132.00   71976.41   72.58   \n",
      "4     2015-11-29          1.28      51039.60   941.48   43838.39   75.78   \n",
      "...          ...           ...           ...      ...        ...     ...   \n",
      "18244 2018-04-02          1.63      17074.83  2046.96    1529.20    0.00   \n",
      "18245 2018-01-28          1.71      13888.04  1191.70    3431.50    0.00   \n",
      "18246 2018-01-21          1.87      13766.76  1191.92    2452.79  727.94   \n",
      "18247 2018-01-14          1.93      16205.22  1527.63    2981.04  727.01   \n",
      "18248 2018-07-01          1.62      17489.58  2894.77    2356.13  224.53   \n",
      "\n",
      "       Total Bags  Small Bags  Large Bags  XLarge Bags          type  year  \\\n",
      "0         8696.87     8603.62       93.25          0.0  conventional  2015   \n",
      "1         9505.56     9408.07       97.49          0.0  conventional  2015   \n",
      "2         8145.35     8042.21      103.14          0.0  conventional  2015   \n",
      "3         5811.16     5677.40      133.76          0.0  conventional  2015   \n",
      "4         6183.95     5986.26      197.69          0.0  conventional  2015   \n",
      "...           ...         ...         ...          ...           ...   ...   \n",
      "18244    13498.67    13066.82      431.85          0.0       organic  2018   \n",
      "18245     9264.84     8940.04      324.80          0.0       organic  2018   \n",
      "18246     9394.11     9351.80       42.31          0.0       organic  2018   \n",
      "18247    10969.54    10919.54       50.00          0.0       organic  2018   \n",
      "18248    12014.15    11988.14       26.01          0.0       organic  2018   \n",
      "\n",
      "                 region  Month  Year  Day  \n",
      "0                Albany     12  2015   27  \n",
      "1                Albany     12  2015   20  \n",
      "2                Albany     12  2015   13  \n",
      "3                Albany      6  2015   12  \n",
      "4                Albany     11  2015   29  \n",
      "...                 ...    ...   ...  ...  \n",
      "18244  WestTexNewMexico      4  2018    2  \n",
      "18245  WestTexNewMexico      1  2018   28  \n",
      "18246  WestTexNewMexico      1  2018   21  \n",
      "18247  WestTexNewMexico      1  2018   14  \n",
      "18248  WestTexNewMexico      7  2018    1  \n",
      "\n",
      "[18249 rows x 16 columns]\n"
     ]
    }
   ],
   "source": [
    "# Display the updated DataFrame\n",
    "print(df)\n"
   ]
  },
  {
   "cell_type": "code",
   "execution_count": 25,
   "id": "191bc570",
   "metadata": {},
   "outputs": [
    {
     "name": "stdout",
     "output_type": "stream",
     "text": [
      "Year  Month\n",
      "2015  1        1.330241\n",
      "      2        1.409198\n",
      "      3        1.355671\n",
      "      4        1.369329\n",
      "      5        1.388556\n",
      "      6        1.387959\n",
      "      7        1.396420\n",
      "      8        1.386451\n",
      "      9        1.448380\n",
      "      10       1.366296\n",
      "      11       1.351556\n",
      "      12       1.342259\n",
      "2016  1        1.232639\n",
      "      2        1.337454\n",
      "      3        1.229398\n",
      "      4        1.288032\n",
      "      5        1.232269\n",
      "      6        1.366250\n",
      "      7        1.389722\n",
      "      8        1.344236\n",
      "      9        1.488519\n",
      "      10       1.413657\n",
      "      11       1.449056\n",
      "      12       1.295988\n",
      "2017  1        1.392870\n",
      "      2        1.382014\n",
      "      3        1.528194\n",
      "      4        1.540926\n",
      "      5        1.443318\n",
      "      6        1.567329\n",
      "      7        1.544120\n",
      "      8        1.665481\n",
      "      9        1.667731\n",
      "      10       1.646593\n",
      "      11       1.507623\n",
      "      12       1.373549\n",
      "2018  1        1.397315\n",
      "      2        1.366852\n",
      "      3        1.330278\n",
      "      4        1.292130\n",
      "      7        1.357778\n",
      "      11       1.321065\n",
      "Name: AveragePrice, dtype: float64\n"
     ]
    }
   ],
   "source": [
    "avg_prices = df.groupby(['Year', 'Month'])['AveragePrice'].mean()\n",
    "print(avg_prices)\n"
   ]
  },
  {
   "cell_type": "code",
   "execution_count": 26,
   "id": "5406a974",
   "metadata": {},
   "outputs": [
    {
     "name": "stdout",
     "output_type": "stream",
     "text": [
      "region\n",
      "Albany                 1.606780e+07\n",
      "Atlanta                8.860512e+07\n",
      "BaltimoreWashington    1.347139e+08\n",
      "Boise                  1.441319e+07\n",
      "Boston                 9.727398e+07\n",
      "BuffaloRochester       2.296247e+07\n",
      "California             1.028982e+09\n",
      "Charlotte              3.555554e+07\n",
      "Chicago                1.337023e+08\n",
      "CincinnatiDayton       4.452201e+07\n",
      "Columbus               2.999336e+07\n",
      "DallasFtWorth          2.084193e+08\n",
      "Denver                 1.389025e+08\n",
      "Detroit                6.342242e+07\n",
      "GrandRapids            3.021174e+07\n",
      "GreatLakes             5.896425e+08\n",
      "HarrisburgScranton     4.180886e+07\n",
      "HartfordSpringfield    5.067054e+07\n",
      "Houston                2.031679e+08\n",
      "Indianapolis           3.026339e+07\n",
      "Jacksonville           2.879000e+07\n",
      "LasVegas               5.437691e+07\n",
      "LosAngeles             5.078965e+08\n",
      "Louisville             1.609700e+07\n",
      "MiamiFtLauderdale      9.767322e+07\n",
      "Midsouth               5.083494e+08\n",
      "Nashville              3.561209e+07\n",
      "NewOrleansMobile       4.569514e+07\n",
      "NewYork                2.407341e+08\n",
      "Northeast              7.132809e+08\n",
      "NorthernNewEngland     7.153289e+07\n",
      "Orlando                5.866070e+07\n",
      "Philadelphia           7.183880e+07\n",
      "PhoenixTucson          1.956433e+08\n",
      "Pittsburgh             1.880635e+07\n",
      "Plains                 3.111885e+08\n",
      "Portland               1.105522e+08\n",
      "RaleighGreensboro      4.820273e+07\n",
      "RichmondNorfolk        4.223085e+07\n",
      "Roanoke                2.504201e+07\n",
      "Sacramento             7.516375e+07\n",
      "SanDiego               8.979192e+07\n",
      "SanFrancisco           1.358302e+08\n",
      "Seattle                1.092142e+08\n",
      "SouthCarolina          6.075377e+07\n",
      "SouthCentral           1.011280e+09\n",
      "Southeast              6.152384e+08\n",
      "Spokane                1.556528e+07\n",
      "StLouis                3.207283e+07\n",
      "Syracuse               1.094267e+07\n",
      "Tampa                  6.600454e+07\n",
      "TotalUS                5.864740e+09\n",
      "West                   1.086779e+09\n",
      "WestTexNewMexico       1.445218e+08\n",
      "Name: Total Volume, dtype: float64\n"
     ]
    }
   ],
   "source": [
    "sales_by_region = df.groupby('region')['Total Volume'].sum()\n",
    "print(sales_by_region)\n"
   ]
  },
  {
   "cell_type": "code",
   "execution_count": 27,
   "id": "2839e2a9",
   "metadata": {},
   "outputs": [
    {
     "data": {
      "image/png": "[encoded data removed]",
      "text/plain": [
       "<Figure size 640x480 with 1 Axes>"
      ]
     },
     "metadata": {},
     "output_type": "display_data"
    }
   ],
   "source": [
    "import matplotlib.pyplot as plt\n",
    "\n",
    "df.plot(x='Date', y='AveragePrice')\n",
    "plt.xlabel('Date')\n",
    "plt.ylabel('Average Price')\n",
    "plt.title('Avocado Price Trend')\n",
    "plt.show()\n"
   ]
  },
  {
   "cell_type": "code",
   "execution_count": 28,
   "id": "3307fd40",
   "metadata": {},
   "outputs": [
    {
     "name": "stdout",
     "output_type": "stream",
     "text": [
      "type\n",
      "conventional    1.508722e+10\n",
      "organic         4.361817e+08\n",
      "Name: Total Volume, dtype: float64\n"
     ]
    }
   ],
   "source": [
    "sales_by_type = df.groupby('type')['Total Volume'].sum()\n",
    "print(sales_by_type)\n"
   ]
  },
  {
   "cell_type": "code",
   "execution_count": null,
   "id": "62737a4f",
   "metadata": {},
   "outputs": [],
   "source": []
  }
 ],
 "metadata": {
  "kernelspec": {
   "display_name": "Python 3 (ipykernel)",
   "language": "python",
   "name": "python3"
  },
  "language_info": {
   "codemirror_mode": {
    "name": "ipython",
    "version": 3
   },
   "file_extension": ".py",
   "mimetype": "text/x-python",
   "name": "python",
   "nbconvert_exporter": "python",
   "pygments_lexer": "ipython3",
   "version": "3.10.9"
  }
 },
 "nbformat": 4,
 "nbformat_minor": 5
}
